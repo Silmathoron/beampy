{
  "nbformat_minor": 0, 
  "nbformat": 4, 
  "cells": [
    {
      "execution_count": null, 
      "cell_type": "code", 
      "source": [
        "%matplotlib inline"
      ], 
      "outputs": [], 
      "metadata": {
        "collapsed": false
      }
    }, 
    {
      "source": [
        "\nbox\n===\n\nAdd box around a group. \n\n<div class=\"alert alert-danger\"><h4>Warning</h4><p>This function is in beta version and need to be interfaced with beampy THEME.</p></div>\n\n\n"
      ], 
      "cell_type": "markdown", 
      "metadata": {}
    }, 
    {
      "execution_count": null, 
      "cell_type": "code", 
      "source": [
        "from beampy import *\nfrom beampy.utils import box\n\n# Remove quiet=True to get Beampy render outputs\ndoc = document(quiet=True)\n\n\nwith slide('Add nice boxes to group'):\n\n    with group(width=300, height=500, x=20, y='center') as g:\n        box(g, title='Very very very long box title', head_height=60)\n        text('Box text')\n\n    with group(width=450, height=200, x=g.right+10, y=g.top+0) as g2:\n        box(g2, title='Change color and drop-shadow', title_align='center', color='forestgreen',\n            shadow=True)\n        text('Box text, with a centered title')\n\n    with group(width=450, height=280, x=g.right+10, y=g2.bottom+20) as g3:\n        box(g3, color='darkorange', rounded=70, background_color='lightgray', linewidth=4)\n        \n        text('''\n            Without title for the box, more rounded angle, bigger\n            linewidth, and a background color\n            ''', align='center', width=420-20)\n            \n\ndisplay_matplotlib(gcs())"
      ], 
      "outputs": [], 
      "metadata": {
        "collapsed": false
      }
    }, 
    {
      "source": [
        "Module arguments\n================\n\n.. autofunction:: beampy.utils.box\n   :noindex:\n\n"
      ], 
      "cell_type": "markdown", 
      "metadata": {}
    }
  ], 
  "metadata": {
    "kernelspec": {
      "display_name": "Python 2", 
      "name": "python2", 
      "language": "python"
    }, 
    "language_info": {
      "mimetype": "text/x-python", 
      "nbconvert_exporter": "python", 
      "name": "python", 
      "file_extension": ".py", 
      "version": "2.7.13", 
      "pygments_lexer": "ipython2", 
      "codemirror_mode": {
        "version": 2, 
        "name": "ipython"
      }
    }
  }
}